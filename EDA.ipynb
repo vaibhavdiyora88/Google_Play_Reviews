{
 "cells": [
  {
   "cell_type": "markdown",
   "metadata": {},
   "source": [
    "## EDA and Preprocessing"
   ]
  },
  {
   "cell_type": "code",
   "execution_count": 1,
   "metadata": {},
   "outputs": [],
   "source": [
    "#Importing Necessary Libraries\n",
    "import pandas as pd\n",
    "import numpy as np\n",
    "import seaborn as sns\n",
    "import matplotlib.pyplot as plt\n",
    "import re\n",
    "import nltk\n",
    "import os\n",
    "import numpy as np\n",
    "\n",
    "from nltk.corpus import stopwords\n",
    "from nltk.stem.wordnet import WordNetLemmatizer\n",
    "from sklearn.feature_extraction.text import CountVectorizer\n",
    "from sklearn.feature_extraction.text import TfidfVectorizer\n",
    "from sklearn.model_selection import train_test_split\n",
    "from sklearn.linear_model import LogisticRegression\n",
    "from sklearn.ensemble import RandomForestClassifier\n",
    "#from xgboost import XGBClassifier\n",
    "from sklearn.svm import LinearSVC\n",
    "from sklearn.model_selection import cross_val_score\n",
    "from sklearn.multiclass import OneVsRestClassifier\n",
    "from sklearn.metrics import accuracy_score,confusion_matrix"
   ]
  },
  {
   "cell_type": "code",
   "execution_count": 77,
   "metadata": {},
   "outputs": [],
   "source": [
    "df_app=pd.read_csv(\"final_app_details.csv\",sep=\"\\t\")"
   ]
  },
  {
   "cell_type": "code",
   "execution_count": 78,
   "metadata": {},
   "outputs": [],
   "source": [
    "app_rev=pd.read_csv(\"final_app_reviews.csv\",sep=\"\\t\",error_bad_lines=False)"
   ]
  },
  {
   "cell_type": "code",
   "execution_count": 6,
   "metadata": {},
   "outputs": [
    {
     "data": {
      "text/plain": [
       "6839"
      ]
     },
     "execution_count": 6,
     "metadata": {},
     "output_type": "execute_result"
    }
   ],
   "source": [
    "len(df_app)"
   ]
  },
  {
   "cell_type": "code",
   "execution_count": 7,
   "metadata": {},
   "outputs": [
    {
     "data": {
      "text/plain": [
       "552823"
      ]
     },
     "execution_count": 7,
     "metadata": {},
     "output_type": "execute_result"
    }
   ],
   "source": [
    "len(app_rev)"
   ]
  },
  {
   "cell_type": "code",
   "execution_count": 8,
   "metadata": {},
   "outputs": [
    {
     "data": {
      "text/html": [
       "<div>\n",
       "<style scoped>\n",
       "    .dataframe tbody tr th:only-of-type {\n",
       "        vertical-align: middle;\n",
       "    }\n",
       "\n",
       "    .dataframe tbody tr th {\n",
       "        vertical-align: top;\n",
       "    }\n",
       "\n",
       "    .dataframe thead th {\n",
       "        text-align: right;\n",
       "    }\n",
       "</style>\n",
       "<table border=\"1\" class=\"dataframe\">\n",
       "  <thead>\n",
       "    <tr style=\"text-align: right;\">\n",
       "      <th></th>\n",
       "      <th>app_id</th>\n",
       "      <th>app_title</th>\n",
       "      <th>rating</th>\n",
       "      <th>price</th>\n",
       "      <th>no_of_ratings</th>\n",
       "      <th>size</th>\n",
       "      <th>in_app_products</th>\n",
       "      <th>installs</th>\n",
       "      <th>ratings_distribution_5</th>\n",
       "      <th>ratings_distribution_4</th>\n",
       "      <th>ratings_distribution_3</th>\n",
       "      <th>ratings_distribution_2</th>\n",
       "      <th>ratings_distribution_1</th>\n",
       "      <th>is_editors_choice</th>\n",
       "      <th>genre</th>\n",
       "      <th>age_rating</th>\n",
       "      <th>app_url</th>\n",
       "    </tr>\n",
       "  </thead>\n",
       "  <tbody>\n",
       "    <tr>\n",
       "      <th>0</th>\n",
       "      <td>com.aaa.android.discounts</td>\n",
       "      <td>AAA Mobile</td>\n",
       "      <td>4.1</td>\n",
       "      <td>0</td>\n",
       "      <td>26,274</td>\n",
       "      <td>48M</td>\n",
       "      <td>NaN</td>\n",
       "      <td>1,000,000+</td>\n",
       "      <td>15,408</td>\n",
       "      <td>5,053</td>\n",
       "      <td>1,653</td>\n",
       "      <td>1,055</td>\n",
       "      <td>3,114</td>\n",
       "      <td>0</td>\n",
       "      <td>Lifestyle</td>\n",
       "      <td>Everyone</td>\n",
       "      <td>https://play.google.com/store/apps/details?id=...</td>\n",
       "    </tr>\n",
       "    <tr>\n",
       "      <th>1</th>\n",
       "      <td>se.chai.vrtv.free</td>\n",
       "      <td>VRTV VR Video Player Free</td>\n",
       "      <td>4.0</td>\n",
       "      <td>0</td>\n",
       "      <td>1,832</td>\n",
       "      <td>15M</td>\n",
       "      <td>NaN</td>\n",
       "      <td>100,000+</td>\n",
       "      <td>1,031</td>\n",
       "      <td>342</td>\n",
       "      <td>169</td>\n",
       "      <td>77</td>\n",
       "      <td>214</td>\n",
       "      <td>0</td>\n",
       "      <td>Video Players &amp; Editors</td>\n",
       "      <td>Everyone</td>\n",
       "      <td>https://play.google.com/store/apps/details?id=...</td>\n",
       "    </tr>\n",
       "    <tr>\n",
       "      <th>2</th>\n",
       "      <td>com.bindasapp.RangEHinaUrduNovel</td>\n",
       "      <td>Rang E Hina Urdu Romantic Novel</td>\n",
       "      <td>4.5</td>\n",
       "      <td>0</td>\n",
       "      <td>4</td>\n",
       "      <td>7.6M</td>\n",
       "      <td>NaN</td>\n",
       "      <td>1,000+</td>\n",
       "      <td>2</td>\n",
       "      <td>2</td>\n",
       "      <td>0</td>\n",
       "      <td>0</td>\n",
       "      <td>0</td>\n",
       "      <td>0</td>\n",
       "      <td>Books &amp; Reference</td>\n",
       "      <td>Everyone</td>\n",
       "      <td>https://play.google.com/store/apps/details?id=...</td>\n",
       "    </tr>\n",
       "    <tr>\n",
       "      <th>3</th>\n",
       "      <td>questionlogix.logomakerfree</td>\n",
       "      <td>Logo Maker Free</td>\n",
       "      <td>4.0</td>\n",
       "      <td>0</td>\n",
       "      <td>3,392</td>\n",
       "      <td>38M</td>\n",
       "      <td>NaN</td>\n",
       "      <td>1,000,000+</td>\n",
       "      <td>2,206</td>\n",
       "      <td>271</td>\n",
       "      <td>251</td>\n",
       "      <td>95</td>\n",
       "      <td>589</td>\n",
       "      <td>0</td>\n",
       "      <td>Business</td>\n",
       "      <td>Everyone</td>\n",
       "      <td>https://play.google.com/store/apps/details?id=...</td>\n",
       "    </tr>\n",
       "    <tr>\n",
       "      <th>4</th>\n",
       "      <td>com.gamesking.truckdriver</td>\n",
       "      <td>Indian Cargo Truck</td>\n",
       "      <td>4.0</td>\n",
       "      <td>0</td>\n",
       "      <td>78</td>\n",
       "      <td>56M</td>\n",
       "      <td>NaN</td>\n",
       "      <td>10,000+</td>\n",
       "      <td>52</td>\n",
       "      <td>3</td>\n",
       "      <td>10</td>\n",
       "      <td>4</td>\n",
       "      <td>10</td>\n",
       "      <td>0</td>\n",
       "      <td>Simulation</td>\n",
       "      <td>Everyone</td>\n",
       "      <td>https://play.google.com/store/apps/details?id=...</td>\n",
       "    </tr>\n",
       "  </tbody>\n",
       "</table>\n",
       "</div>"
      ],
      "text/plain": [
       "                             app_id                        app_title  rating  \\\n",
       "0         com.aaa.android.discounts                       AAA Mobile     4.1   \n",
       "1                 se.chai.vrtv.free        VRTV VR Video Player Free     4.0   \n",
       "2  com.bindasapp.RangEHinaUrduNovel  Rang E Hina Urdu Romantic Novel     4.5   \n",
       "3       questionlogix.logomakerfree                  Logo Maker Free     4.0   \n",
       "4         com.gamesking.truckdriver               Indian Cargo Truck     4.0   \n",
       "\n",
       "  price no_of_ratings  size in_app_products    installs  \\\n",
       "0     0        26,274   48M             NaN  1,000,000+   \n",
       "1     0         1,832   15M             NaN    100,000+   \n",
       "2     0             4  7.6M             NaN      1,000+   \n",
       "3     0         3,392   38M             NaN  1,000,000+   \n",
       "4     0            78   56M             NaN     10,000+   \n",
       "\n",
       "  ratings_distribution_5 ratings_distribution_4 ratings_distribution_3  \\\n",
       "0                 15,408                  5,053                  1,653   \n",
       "1                  1,031                    342                    169   \n",
       "2                      2                      2                      0   \n",
       "3                  2,206                    271                    251   \n",
       "4                     52                      3                     10   \n",
       "\n",
       "  ratings_distribution_2 ratings_distribution_1  is_editors_choice  \\\n",
       "0                  1,055                  3,114                  0   \n",
       "1                     77                    214                  0   \n",
       "2                      0                      0                  0   \n",
       "3                     95                    589                  0   \n",
       "4                      4                     10                  0   \n",
       "\n",
       "                     genre age_rating  \\\n",
       "0                Lifestyle   Everyone   \n",
       "1  Video Players & Editors   Everyone   \n",
       "2        Books & Reference   Everyone   \n",
       "3                 Business   Everyone   \n",
       "4               Simulation   Everyone   \n",
       "\n",
       "                                             app_url  \n",
       "0  https://play.google.com/store/apps/details?id=...  \n",
       "1  https://play.google.com/store/apps/details?id=...  \n",
       "2  https://play.google.com/store/apps/details?id=...  \n",
       "3  https://play.google.com/store/apps/details?id=...  \n",
       "4  https://play.google.com/store/apps/details?id=...  "
      ]
     },
     "execution_count": 8,
     "metadata": {},
     "output_type": "execute_result"
    }
   ],
   "source": [
    "df_app.head()"
   ]
  },
  {
   "cell_type": "code",
   "execution_count": 9,
   "metadata": {},
   "outputs": [
    {
     "data": {
      "text/plain": [
       "app_id                     object\n",
       "app_title                  object\n",
       "rating                    float64\n",
       "price                      object\n",
       "no_of_ratings              object\n",
       "size                       object\n",
       "in_app_products            object\n",
       "installs                   object\n",
       "ratings_distribution_5     object\n",
       "ratings_distribution_4     object\n",
       "ratings_distribution_3     object\n",
       "ratings_distribution_2     object\n",
       "ratings_distribution_1     object\n",
       "is_editors_choice           int64\n",
       "genre                      object\n",
       "age_rating                 object\n",
       "app_url                    object\n",
       "dtype: object"
      ]
     },
     "execution_count": 9,
     "metadata": {},
     "output_type": "execute_result"
    }
   ],
   "source": [
    "df_app.dtypes"
   ]
  },
  {
   "cell_type": "code",
   "execution_count": 79,
   "metadata": {},
   "outputs": [],
   "source": [
    "del df_app['in_app_products']"
   ]
  },
  {
   "cell_type": "code",
   "execution_count": 80,
   "metadata": {},
   "outputs": [
    {
     "name": "stdout",
     "output_type": "stream",
     "text": [
      "The Google play store dataset contains 5525 rows and 16 columns after dropping NAN.\n"
     ]
    }
   ],
   "source": [
    "#Dropping Data frame which has NAN values\n",
    "df_app=df_app.dropna()\n",
    "print(\"The Google play store dataset contains %d rows and %d columns after dropping NAN.\" %(df_app.shape[0],df_app.shape[1]))"
   ]
  },
  {
   "cell_type": "code",
   "execution_count": 81,
   "metadata": {},
   "outputs": [
    {
     "data": {
      "text/plain": [
       "False    5525\n",
       "dtype: int64"
      ]
     },
     "execution_count": 81,
     "metadata": {},
     "output_type": "execute_result"
    }
   ],
   "source": [
    "df_app.duplicated(subset='app_id').value_counts()"
   ]
  },
  {
   "cell_type": "code",
   "execution_count": 82,
   "metadata": {},
   "outputs": [
    {
     "data": {
      "text/plain": [
       "(5525, 16)"
      ]
     },
     "execution_count": 82,
     "metadata": {},
     "output_type": "execute_result"
    }
   ],
   "source": [
    "df_app.shape"
   ]
  },
  {
   "cell_type": "code",
   "execution_count": 83,
   "metadata": {},
   "outputs": [],
   "source": [
    "df_app['category']=df_app['genre']"
   ]
  },
  {
   "cell_type": "code",
   "execution_count": 84,
   "metadata": {},
   "outputs": [
    {
     "data": {
      "text/html": [
       "<div>\n",
       "<style scoped>\n",
       "    .dataframe tbody tr th:only-of-type {\n",
       "        vertical-align: middle;\n",
       "    }\n",
       "\n",
       "    .dataframe tbody tr th {\n",
       "        vertical-align: top;\n",
       "    }\n",
       "\n",
       "    .dataframe thead th {\n",
       "        text-align: right;\n",
       "    }\n",
       "</style>\n",
       "<table border=\"1\" class=\"dataframe\">\n",
       "  <thead>\n",
       "    <tr style=\"text-align: right;\">\n",
       "      <th></th>\n",
       "      <th>app_id</th>\n",
       "      <th>app_title</th>\n",
       "      <th>rating</th>\n",
       "      <th>price</th>\n",
       "      <th>no_of_ratings</th>\n",
       "      <th>size</th>\n",
       "      <th>installs</th>\n",
       "      <th>ratings_distribution_5</th>\n",
       "      <th>ratings_distribution_4</th>\n",
       "      <th>ratings_distribution_3</th>\n",
       "      <th>ratings_distribution_2</th>\n",
       "      <th>ratings_distribution_1</th>\n",
       "      <th>is_editors_choice</th>\n",
       "      <th>genre</th>\n",
       "      <th>age_rating</th>\n",
       "      <th>app_url</th>\n",
       "      <th>category</th>\n",
       "    </tr>\n",
       "  </thead>\n",
       "  <tbody>\n",
       "    <tr>\n",
       "      <th>0</th>\n",
       "      <td>com.aaa.android.discounts</td>\n",
       "      <td>AAA Mobile</td>\n",
       "      <td>4.1</td>\n",
       "      <td>0</td>\n",
       "      <td>26,274</td>\n",
       "      <td>48M</td>\n",
       "      <td>1000000</td>\n",
       "      <td>15,408</td>\n",
       "      <td>5,053</td>\n",
       "      <td>1,653</td>\n",
       "      <td>1,055</td>\n",
       "      <td>3,114</td>\n",
       "      <td>0</td>\n",
       "      <td>Lifestyle</td>\n",
       "      <td>Everyone</td>\n",
       "      <td>https://play.google.com/store/apps/details?id=...</td>\n",
       "      <td>Lifestyle</td>\n",
       "    </tr>\n",
       "    <tr>\n",
       "      <th>1</th>\n",
       "      <td>se.chai.vrtv.free</td>\n",
       "      <td>VRTV VR Video Player Free</td>\n",
       "      <td>4.0</td>\n",
       "      <td>0</td>\n",
       "      <td>1,832</td>\n",
       "      <td>15M</td>\n",
       "      <td>100000</td>\n",
       "      <td>1,031</td>\n",
       "      <td>342</td>\n",
       "      <td>169</td>\n",
       "      <td>77</td>\n",
       "      <td>214</td>\n",
       "      <td>0</td>\n",
       "      <td>Video Players &amp; Editors</td>\n",
       "      <td>Everyone</td>\n",
       "      <td>https://play.google.com/store/apps/details?id=...</td>\n",
       "      <td>Video Players &amp; Editors</td>\n",
       "    </tr>\n",
       "    <tr>\n",
       "      <th>2</th>\n",
       "      <td>com.bindasapp.RangEHinaUrduNovel</td>\n",
       "      <td>Rang E Hina Urdu Romantic Novel</td>\n",
       "      <td>4.5</td>\n",
       "      <td>0</td>\n",
       "      <td>4</td>\n",
       "      <td>7.6M</td>\n",
       "      <td>1000</td>\n",
       "      <td>2</td>\n",
       "      <td>2</td>\n",
       "      <td>0</td>\n",
       "      <td>0</td>\n",
       "      <td>0</td>\n",
       "      <td>0</td>\n",
       "      <td>Books &amp; Reference</td>\n",
       "      <td>Everyone</td>\n",
       "      <td>https://play.google.com/store/apps/details?id=...</td>\n",
       "      <td>Books &amp; Reference</td>\n",
       "    </tr>\n",
       "    <tr>\n",
       "      <th>3</th>\n",
       "      <td>questionlogix.logomakerfree</td>\n",
       "      <td>Logo Maker Free</td>\n",
       "      <td>4.0</td>\n",
       "      <td>0</td>\n",
       "      <td>3,392</td>\n",
       "      <td>38M</td>\n",
       "      <td>1000000</td>\n",
       "      <td>2,206</td>\n",
       "      <td>271</td>\n",
       "      <td>251</td>\n",
       "      <td>95</td>\n",
       "      <td>589</td>\n",
       "      <td>0</td>\n",
       "      <td>Business</td>\n",
       "      <td>Everyone</td>\n",
       "      <td>https://play.google.com/store/apps/details?id=...</td>\n",
       "      <td>Business</td>\n",
       "    </tr>\n",
       "    <tr>\n",
       "      <th>4</th>\n",
       "      <td>com.gamesking.truckdriver</td>\n",
       "      <td>Indian Cargo Truck</td>\n",
       "      <td>4.0</td>\n",
       "      <td>0</td>\n",
       "      <td>78</td>\n",
       "      <td>56M</td>\n",
       "      <td>10000</td>\n",
       "      <td>52</td>\n",
       "      <td>3</td>\n",
       "      <td>10</td>\n",
       "      <td>4</td>\n",
       "      <td>10</td>\n",
       "      <td>0</td>\n",
       "      <td>Simulation</td>\n",
       "      <td>Everyone</td>\n",
       "      <td>https://play.google.com/store/apps/details?id=...</td>\n",
       "      <td>Simulation</td>\n",
       "    </tr>\n",
       "  </tbody>\n",
       "</table>\n",
       "</div>"
      ],
      "text/plain": [
       "                             app_id                        app_title  rating  \\\n",
       "0         com.aaa.android.discounts                       AAA Mobile     4.1   \n",
       "1                 se.chai.vrtv.free        VRTV VR Video Player Free     4.0   \n",
       "2  com.bindasapp.RangEHinaUrduNovel  Rang E Hina Urdu Romantic Novel     4.5   \n",
       "3       questionlogix.logomakerfree                  Logo Maker Free     4.0   \n",
       "4         com.gamesking.truckdriver               Indian Cargo Truck     4.0   \n",
       "\n",
       "  price no_of_ratings  size  installs ratings_distribution_5  \\\n",
       "0     0        26,274   48M   1000000                 15,408   \n",
       "1     0         1,832   15M    100000                  1,031   \n",
       "2     0             4  7.6M      1000                      2   \n",
       "3     0         3,392   38M   1000000                  2,206   \n",
       "4     0            78   56M     10000                     52   \n",
       "\n",
       "  ratings_distribution_4 ratings_distribution_3 ratings_distribution_2  \\\n",
       "0                  5,053                  1,653                  1,055   \n",
       "1                    342                    169                     77   \n",
       "2                      2                      0                      0   \n",
       "3                    271                    251                     95   \n",
       "4                      3                     10                      4   \n",
       "\n",
       "  ratings_distribution_1  is_editors_choice                    genre  \\\n",
       "0                  3,114                  0                Lifestyle   \n",
       "1                    214                  0  Video Players & Editors   \n",
       "2                      0                  0        Books & Reference   \n",
       "3                    589                  0                 Business   \n",
       "4                     10                  0               Simulation   \n",
       "\n",
       "  age_rating                                            app_url  \\\n",
       "0   Everyone  https://play.google.com/store/apps/details?id=...   \n",
       "1   Everyone  https://play.google.com/store/apps/details?id=...   \n",
       "2   Everyone  https://play.google.com/store/apps/details?id=...   \n",
       "3   Everyone  https://play.google.com/store/apps/details?id=...   \n",
       "4   Everyone  https://play.google.com/store/apps/details?id=...   \n",
       "\n",
       "                  category  \n",
       "0                Lifestyle  \n",
       "1  Video Players & Editors  \n",
       "2        Books & Reference  \n",
       "3                 Business  \n",
       "4               Simulation  "
      ]
     },
     "execution_count": 84,
     "metadata": {},
     "output_type": "execute_result"
    }
   ],
   "source": [
    "#Converting the Installs column into integer\n",
    "df_app['installs']=df_app['installs'].apply(lambda a:a.split('+')[0])   #Removes '+' from Installs\n",
    "se=df_app['installs'].apply(lambda a:a.split(','))                      #Removes ',' from Installs \n",
    "\n",
    "def add_list(x):\n",
    "    sum=' '\n",
    "    for i in range(0,len(x)):\n",
    "        sum+=x[i]\n",
    "    return int(sum)  \n",
    "\n",
    "df_app['installs']=se.apply(lambda a:add_list(a))                      #Convert str to int values \n",
    "df_app.head(5)"
   ]
  },
  {
   "cell_type": "code",
   "execution_count": 85,
   "metadata": {},
   "outputs": [
    {
     "data": {
      "text/html": [
       "<div>\n",
       "<style scoped>\n",
       "    .dataframe tbody tr th:only-of-type {\n",
       "        vertical-align: middle;\n",
       "    }\n",
       "\n",
       "    .dataframe tbody tr th {\n",
       "        vertical-align: top;\n",
       "    }\n",
       "\n",
       "    .dataframe thead th {\n",
       "        text-align: right;\n",
       "    }\n",
       "</style>\n",
       "<table border=\"1\" class=\"dataframe\">\n",
       "  <thead>\n",
       "    <tr style=\"text-align: right;\">\n",
       "      <th></th>\n",
       "      <th>app_id</th>\n",
       "      <th>app_title</th>\n",
       "      <th>rating</th>\n",
       "      <th>price</th>\n",
       "      <th>no_of_ratings</th>\n",
       "      <th>size</th>\n",
       "      <th>installs</th>\n",
       "      <th>ratings_distribution_5</th>\n",
       "      <th>ratings_distribution_4</th>\n",
       "      <th>ratings_distribution_3</th>\n",
       "      <th>ratings_distribution_2</th>\n",
       "      <th>ratings_distribution_1</th>\n",
       "      <th>is_editors_choice</th>\n",
       "      <th>genre</th>\n",
       "      <th>age_rating</th>\n",
       "      <th>app_url</th>\n",
       "      <th>category</th>\n",
       "    </tr>\n",
       "  </thead>\n",
       "  <tbody>\n",
       "    <tr>\n",
       "      <th>0</th>\n",
       "      <td>com.aaa.android.discounts</td>\n",
       "      <td>AAA Mobile</td>\n",
       "      <td>4.1</td>\n",
       "      <td>0.0</td>\n",
       "      <td>26,274</td>\n",
       "      <td>48M</td>\n",
       "      <td>1000000</td>\n",
       "      <td>15,408</td>\n",
       "      <td>5,053</td>\n",
       "      <td>1,653</td>\n",
       "      <td>1,055</td>\n",
       "      <td>3,114</td>\n",
       "      <td>0</td>\n",
       "      <td>Lifestyle</td>\n",
       "      <td>Everyone</td>\n",
       "      <td>https://play.google.com/store/apps/details?id=...</td>\n",
       "      <td>Lifestyle</td>\n",
       "    </tr>\n",
       "    <tr>\n",
       "      <th>1</th>\n",
       "      <td>se.chai.vrtv.free</td>\n",
       "      <td>VRTV VR Video Player Free</td>\n",
       "      <td>4.0</td>\n",
       "      <td>0.0</td>\n",
       "      <td>1,832</td>\n",
       "      <td>15M</td>\n",
       "      <td>100000</td>\n",
       "      <td>1,031</td>\n",
       "      <td>342</td>\n",
       "      <td>169</td>\n",
       "      <td>77</td>\n",
       "      <td>214</td>\n",
       "      <td>0</td>\n",
       "      <td>Video Players &amp; Editors</td>\n",
       "      <td>Everyone</td>\n",
       "      <td>https://play.google.com/store/apps/details?id=...</td>\n",
       "      <td>Video Players &amp; Editors</td>\n",
       "    </tr>\n",
       "    <tr>\n",
       "      <th>2</th>\n",
       "      <td>com.bindasapp.RangEHinaUrduNovel</td>\n",
       "      <td>Rang E Hina Urdu Romantic Novel</td>\n",
       "      <td>4.5</td>\n",
       "      <td>0.0</td>\n",
       "      <td>4</td>\n",
       "      <td>7.6M</td>\n",
       "      <td>1000</td>\n",
       "      <td>2</td>\n",
       "      <td>2</td>\n",
       "      <td>0</td>\n",
       "      <td>0</td>\n",
       "      <td>0</td>\n",
       "      <td>0</td>\n",
       "      <td>Books &amp; Reference</td>\n",
       "      <td>Everyone</td>\n",
       "      <td>https://play.google.com/store/apps/details?id=...</td>\n",
       "      <td>Books &amp; Reference</td>\n",
       "    </tr>\n",
       "    <tr>\n",
       "      <th>3</th>\n",
       "      <td>questionlogix.logomakerfree</td>\n",
       "      <td>Logo Maker Free</td>\n",
       "      <td>4.0</td>\n",
       "      <td>0.0</td>\n",
       "      <td>3,392</td>\n",
       "      <td>38M</td>\n",
       "      <td>1000000</td>\n",
       "      <td>2,206</td>\n",
       "      <td>271</td>\n",
       "      <td>251</td>\n",
       "      <td>95</td>\n",
       "      <td>589</td>\n",
       "      <td>0</td>\n",
       "      <td>Business</td>\n",
       "      <td>Everyone</td>\n",
       "      <td>https://play.google.com/store/apps/details?id=...</td>\n",
       "      <td>Business</td>\n",
       "    </tr>\n",
       "    <tr>\n",
       "      <th>4</th>\n",
       "      <td>com.gamesking.truckdriver</td>\n",
       "      <td>Indian Cargo Truck</td>\n",
       "      <td>4.0</td>\n",
       "      <td>0.0</td>\n",
       "      <td>78</td>\n",
       "      <td>56M</td>\n",
       "      <td>10000</td>\n",
       "      <td>52</td>\n",
       "      <td>3</td>\n",
       "      <td>10</td>\n",
       "      <td>4</td>\n",
       "      <td>10</td>\n",
       "      <td>0</td>\n",
       "      <td>Simulation</td>\n",
       "      <td>Everyone</td>\n",
       "      <td>https://play.google.com/store/apps/details?id=...</td>\n",
       "      <td>Simulation</td>\n",
       "    </tr>\n",
       "  </tbody>\n",
       "</table>\n",
       "</div>"
      ],
      "text/plain": [
       "                             app_id                        app_title  rating  \\\n",
       "0         com.aaa.android.discounts                       AAA Mobile     4.1   \n",
       "1                 se.chai.vrtv.free        VRTV VR Video Player Free     4.0   \n",
       "2  com.bindasapp.RangEHinaUrduNovel  Rang E Hina Urdu Romantic Novel     4.5   \n",
       "3       questionlogix.logomakerfree                  Logo Maker Free     4.0   \n",
       "4         com.gamesking.truckdriver               Indian Cargo Truck     4.0   \n",
       "\n",
       "   price no_of_ratings  size  installs ratings_distribution_5  \\\n",
       "0    0.0        26,274   48M   1000000                 15,408   \n",
       "1    0.0         1,832   15M    100000                  1,031   \n",
       "2    0.0             4  7.6M      1000                      2   \n",
       "3    0.0         3,392   38M   1000000                  2,206   \n",
       "4    0.0            78   56M     10000                     52   \n",
       "\n",
       "  ratings_distribution_4 ratings_distribution_3 ratings_distribution_2  \\\n",
       "0                  5,053                  1,653                  1,055   \n",
       "1                    342                    169                     77   \n",
       "2                      2                      0                      0   \n",
       "3                    271                    251                     95   \n",
       "4                      3                     10                      4   \n",
       "\n",
       "  ratings_distribution_1  is_editors_choice                    genre  \\\n",
       "0                  3,114                  0                Lifestyle   \n",
       "1                    214                  0  Video Players & Editors   \n",
       "2                      0                  0        Books & Reference   \n",
       "3                    589                  0                 Business   \n",
       "4                     10                  0               Simulation   \n",
       "\n",
       "  age_rating                                            app_url  \\\n",
       "0   Everyone  https://play.google.com/store/apps/details?id=...   \n",
       "1   Everyone  https://play.google.com/store/apps/details?id=...   \n",
       "2   Everyone  https://play.google.com/store/apps/details?id=...   \n",
       "3   Everyone  https://play.google.com/store/apps/details?id=...   \n",
       "4   Everyone  https://play.google.com/store/apps/details?id=...   \n",
       "\n",
       "                  category  \n",
       "0                Lifestyle  \n",
       "1  Video Players & Editors  \n",
       "2        Books & Reference  \n",
       "3                 Business  \n",
       "4               Simulation  "
      ]
     },
     "execution_count": 85,
     "metadata": {},
     "output_type": "execute_result"
    }
   ],
   "source": [
    "#Removing Currency symbol from the Price and making it float\n",
    "def remove_curr(x):\n",
    "    if x !='0':\n",
    "        x=x.split('$')[1]\n",
    "    return float(x)   \n",
    "\n",
    "df_app['price']=df_app['price'].apply(lambda a:remove_curr(a))  #Removes '$' from Price\n",
    "df_app.head(5)"
   ]
  },
  {
   "cell_type": "code",
   "execution_count": 86,
   "metadata": {},
   "outputs": [
    {
     "data": {
      "text/plain": [
       "Text(0.5,1,'Number of Apps available based on Category')"
      ]
     },
     "execution_count": 86,
     "metadata": {},
     "output_type": "execute_result"
    },
    {
     "data": {
      "image/png": "[encoded data removed]",
      "text/plain": [
       "<Figure size 864x864 with 1 Axes>"
      ]
     },
     "metadata": {},
     "output_type": "display_data"
    }
   ],
   "source": [
    "#Checking the number of Apps available on playstore based on category\n",
    "plt.figure(figsize=(12,12))\n",
    "sns.countplot(y='category',data=df_app)\n",
    "plt.title(\"Number of Apps available based on Category\")"
   ]
  },
  {
   "cell_type": "code",
   "execution_count": 87,
   "metadata": {},
   "outputs": [
    {
     "data": {
      "text/plain": [
       "Text(0.5,1,'Number of Apps installed based on Category')"
      ]
     },
     "execution_count": 87,
     "metadata": {},
     "output_type": "execute_result"
    },
    {
     "data": {
      "image/png": "[encoded data removed]",
      "text/plain": [
       "<Figure size 864x864 with 1 Axes>"
      ]
     },
     "metadata": {},
     "output_type": "display_data"
    }
   ],
   "source": [
    "#Most installed apps based on Category\n",
    "plt.figure(figsize=(12,12))\n",
    "sns.barplot(x='installs',y='category',data=df_app,ci=None)\n",
    "plt.title(\"Number of Apps installed based on Category\")"
   ]
  },
  {
   "cell_type": "code",
   "execution_count": 88,
   "metadata": {},
   "outputs": [
    {
     "data": {
      "text/plain": [
       "Text(0.5,1,'Number of Apps available based on Content rating')"
      ]
     },
     "execution_count": 88,
     "metadata": {},
     "output_type": "execute_result"
    },
    {
     "data": {
      "image/png": "[encoded data removed]",
      "text/plain": [
       "<Figure size 720x720 with 1 Axes>"
      ]
     },
     "metadata": {},
     "output_type": "display_data"
    }
   ],
   "source": [
    "#Apps available based on Content rating\n",
    "plt.figure(figsize=(10,10))\n",
    "sns.countplot(x='rating',data=df_app,)\n",
    "plt.xticks(rotation=45)\n",
    "plt.title(\"Number of Apps available based on Content rating\")"
   ]
  },
  {
   "cell_type": "code",
   "execution_count": 89,
   "metadata": {},
   "outputs": [
    {
     "data": {
      "text/plain": [
       "app_id                     object\n",
       "app_title                  object\n",
       "rating                    float64\n",
       "price                     float64\n",
       "no_of_ratings              object\n",
       "size                       object\n",
       "installs                    int64\n",
       "ratings_distribution_5     object\n",
       "ratings_distribution_4     object\n",
       "ratings_distribution_3     object\n",
       "ratings_distribution_2     object\n",
       "ratings_distribution_1     object\n",
       "is_editors_choice           int64\n",
       "genre                      object\n",
       "age_rating                 object\n",
       "app_url                    object\n",
       "category                   object\n",
       "dtype: object"
      ]
     },
     "execution_count": 89,
     "metadata": {},
     "output_type": "execute_result"
    }
   ],
   "source": [
    "df_app.dtypes"
   ]
  },
  {
   "cell_type": "code",
   "execution_count": 90,
   "metadata": {},
   "outputs": [],
   "source": [
    "del df_app['genre']"
   ]
  },
  {
   "cell_type": "code",
   "execution_count": 91,
   "metadata": {},
   "outputs": [],
   "source": [
    "df_app['app_type'] = np.where(df_app['price']==0, 'Free', 'Paid')"
   ]
  },
  {
   "cell_type": "code",
   "execution_count": 92,
   "metadata": {},
   "outputs": [
    {
     "data": {
      "text/html": [
       "<div>\n",
       "<style scoped>\n",
       "    .dataframe tbody tr th:only-of-type {\n",
       "        vertical-align: middle;\n",
       "    }\n",
       "\n",
       "    .dataframe tbody tr th {\n",
       "        vertical-align: top;\n",
       "    }\n",
       "\n",
       "    .dataframe thead th {\n",
       "        text-align: right;\n",
       "    }\n",
       "</style>\n",
       "<table border=\"1\" class=\"dataframe\">\n",
       "  <thead>\n",
       "    <tr style=\"text-align: right;\">\n",
       "      <th></th>\n",
       "      <th>app_id</th>\n",
       "      <th>app_title</th>\n",
       "      <th>rating</th>\n",
       "      <th>price</th>\n",
       "      <th>no_of_ratings</th>\n",
       "      <th>size</th>\n",
       "      <th>installs</th>\n",
       "      <th>ratings_distribution_5</th>\n",
       "      <th>ratings_distribution_4</th>\n",
       "      <th>ratings_distribution_3</th>\n",
       "      <th>ratings_distribution_2</th>\n",
       "      <th>ratings_distribution_1</th>\n",
       "      <th>is_editors_choice</th>\n",
       "      <th>age_rating</th>\n",
       "      <th>app_url</th>\n",
       "      <th>category</th>\n",
       "      <th>app_type</th>\n",
       "    </tr>\n",
       "  </thead>\n",
       "  <tbody>\n",
       "    <tr>\n",
       "      <th>0</th>\n",
       "      <td>com.aaa.android.discounts</td>\n",
       "      <td>AAA Mobile</td>\n",
       "      <td>4.1</td>\n",
       "      <td>0.0</td>\n",
       "      <td>26,274</td>\n",
       "      <td>48M</td>\n",
       "      <td>1000000</td>\n",
       "      <td>15,408</td>\n",
       "      <td>5,053</td>\n",
       "      <td>1,653</td>\n",
       "      <td>1,055</td>\n",
       "      <td>3,114</td>\n",
       "      <td>0</td>\n",
       "      <td>Everyone</td>\n",
       "      <td>https://play.google.com/store/apps/details?id=...</td>\n",
       "      <td>Lifestyle</td>\n",
       "      <td>Free</td>\n",
       "    </tr>\n",
       "    <tr>\n",
       "      <th>1</th>\n",
       "      <td>se.chai.vrtv.free</td>\n",
       "      <td>VRTV VR Video Player Free</td>\n",
       "      <td>4.0</td>\n",
       "      <td>0.0</td>\n",
       "      <td>1,832</td>\n",
       "      <td>15M</td>\n",
       "      <td>100000</td>\n",
       "      <td>1,031</td>\n",
       "      <td>342</td>\n",
       "      <td>169</td>\n",
       "      <td>77</td>\n",
       "      <td>214</td>\n",
       "      <td>0</td>\n",
       "      <td>Everyone</td>\n",
       "      <td>https://play.google.com/store/apps/details?id=...</td>\n",
       "      <td>Video Players &amp; Editors</td>\n",
       "      <td>Free</td>\n",
       "    </tr>\n",
       "    <tr>\n",
       "      <th>2</th>\n",
       "      <td>com.bindasapp.RangEHinaUrduNovel</td>\n",
       "      <td>Rang E Hina Urdu Romantic Novel</td>\n",
       "      <td>4.5</td>\n",
       "      <td>0.0</td>\n",
       "      <td>4</td>\n",
       "      <td>7.6M</td>\n",
       "      <td>1000</td>\n",
       "      <td>2</td>\n",
       "      <td>2</td>\n",
       "      <td>0</td>\n",
       "      <td>0</td>\n",
       "      <td>0</td>\n",
       "      <td>0</td>\n",
       "      <td>Everyone</td>\n",
       "      <td>https://play.google.com/store/apps/details?id=...</td>\n",
       "      <td>Books &amp; Reference</td>\n",
       "      <td>Free</td>\n",
       "    </tr>\n",
       "    <tr>\n",
       "      <th>3</th>\n",
       "      <td>questionlogix.logomakerfree</td>\n",
       "      <td>Logo Maker Free</td>\n",
       "      <td>4.0</td>\n",
       "      <td>0.0</td>\n",
       "      <td>3,392</td>\n",
       "      <td>38M</td>\n",
       "      <td>1000000</td>\n",
       "      <td>2,206</td>\n",
       "      <td>271</td>\n",
       "      <td>251</td>\n",
       "      <td>95</td>\n",
       "      <td>589</td>\n",
       "      <td>0</td>\n",
       "      <td>Everyone</td>\n",
       "      <td>https://play.google.com/store/apps/details?id=...</td>\n",
       "      <td>Business</td>\n",
       "      <td>Free</td>\n",
       "    </tr>\n",
       "    <tr>\n",
       "      <th>4</th>\n",
       "      <td>com.gamesking.truckdriver</td>\n",
       "      <td>Indian Cargo Truck</td>\n",
       "      <td>4.0</td>\n",
       "      <td>0.0</td>\n",
       "      <td>78</td>\n",
       "      <td>56M</td>\n",
       "      <td>10000</td>\n",
       "      <td>52</td>\n",
       "      <td>3</td>\n",
       "      <td>10</td>\n",
       "      <td>4</td>\n",
       "      <td>10</td>\n",
       "      <td>0</td>\n",
       "      <td>Everyone</td>\n",
       "      <td>https://play.google.com/store/apps/details?id=...</td>\n",
       "      <td>Simulation</td>\n",
       "      <td>Free</td>\n",
       "    </tr>\n",
       "  </tbody>\n",
       "</table>\n",
       "</div>"
      ],
      "text/plain": [
       "                             app_id                        app_title  rating  \\\n",
       "0         com.aaa.android.discounts                       AAA Mobile     4.1   \n",
       "1                 se.chai.vrtv.free        VRTV VR Video Player Free     4.0   \n",
       "2  com.bindasapp.RangEHinaUrduNovel  Rang E Hina Urdu Romantic Novel     4.5   \n",
       "3       questionlogix.logomakerfree                  Logo Maker Free     4.0   \n",
       "4         com.gamesking.truckdriver               Indian Cargo Truck     4.0   \n",
       "\n",
       "   price no_of_ratings  size  installs ratings_distribution_5  \\\n",
       "0    0.0        26,274   48M   1000000                 15,408   \n",
       "1    0.0         1,832   15M    100000                  1,031   \n",
       "2    0.0             4  7.6M      1000                      2   \n",
       "3    0.0         3,392   38M   1000000                  2,206   \n",
       "4    0.0            78   56M     10000                     52   \n",
       "\n",
       "  ratings_distribution_4 ratings_distribution_3 ratings_distribution_2  \\\n",
       "0                  5,053                  1,653                  1,055   \n",
       "1                    342                    169                     77   \n",
       "2                      2                      0                      0   \n",
       "3                    271                    251                     95   \n",
       "4                      3                     10                      4   \n",
       "\n",
       "  ratings_distribution_1  is_editors_choice age_rating  \\\n",
       "0                  3,114                  0   Everyone   \n",
       "1                    214                  0   Everyone   \n",
       "2                      0                  0   Everyone   \n",
       "3                    589                  0   Everyone   \n",
       "4                     10                  0   Everyone   \n",
       "\n",
       "                                             app_url                 category  \\\n",
       "0  https://play.google.com/store/apps/details?id=...                Lifestyle   \n",
       "1  https://play.google.com/store/apps/details?id=...  Video Players & Editors   \n",
       "2  https://play.google.com/store/apps/details?id=...        Books & Reference   \n",
       "3  https://play.google.com/store/apps/details?id=...                 Business   \n",
       "4  https://play.google.com/store/apps/details?id=...               Simulation   \n",
       "\n",
       "  app_type  \n",
       "0     Free  \n",
       "1     Free  \n",
       "2     Free  \n",
       "3     Free  \n",
       "4     Free  "
      ]
     },
     "execution_count": 92,
     "metadata": {},
     "output_type": "execute_result"
    }
   ],
   "source": [
    "df_app.head()"
   ]
  },
  {
   "cell_type": "code",
   "execution_count": 94,
   "metadata": {},
   "outputs": [
    {
     "data": {
      "text/plain": [
       "Free    5409\n",
       "Paid     116\n",
       "Name: app_type, dtype: int64"
      ]
     },
     "execution_count": 94,
     "metadata": {},
     "output_type": "execute_result"
    }
   ],
   "source": [
    "df_app['app_type'].value_counts()"
   ]
  },
  {
   "cell_type": "markdown",
   "metadata": {},
   "source": [
    "Total number of apps available and installed"
   ]
  },
  {
   "cell_type": "code",
   "execution_count": 95,
   "metadata": {},
   "outputs": [
    {
     "data": {
      "image/png": "[encoded data removed]",
      "text/plain": [
       "<Figure size 720x720 with 2 Axes>"
      ]
     },
     "metadata": {},
     "output_type": "display_data"
    }
   ],
   "source": [
    "#Number of free and paid Apps available\n",
    "plt.figure(figsize=(10,10))\n",
    "plt.subplot(1,2,1)\n",
    "sns.countplot(x='app_type',data=df_app)\n",
    "plt.title(\"Number of Apps Available: Free v/s Paid\")\n",
    "\n",
    "#Most installed apps based on Category\n",
    "plt.subplot(1,2,2)\n",
    "sns.barplot(x='app_type',y='installs',data=df_app,ci=None)\n",
    "plt.title(\"Number of Apps installed: Free v/s Paid\")\n",
    "plt.tight_layout()"
   ]
  },
  {
   "cell_type": "code",
   "execution_count": 96,
   "metadata": {},
   "outputs": [
    {
     "data": {
      "text/plain": [
       "Text(0.5,1,'Number of Apps and ratings ')"
      ]
     },
     "execution_count": 96,
     "metadata": {},
     "output_type": "execute_result"
    },
    {
     "data": {
      "image/png": "[encoded data removed]",
      "text/plain": [
       "<Figure size 1080x1080 with 1 Axes>"
      ]
     },
     "metadata": {},
     "output_type": "display_data"
    }
   ],
   "source": [
    "#Ratings of Apps and the number of installed\n",
    "plt.figure(figsize=(15,15))\n",
    "sns.barplot(y='installs',x='rating',data=df_app,ci=None)\n",
    "plt.xticks(rotation=45)\n",
    "plt.title(\"Number of Apps and ratings \")"
   ]
  },
  {
   "cell_type": "code",
   "execution_count": 97,
   "metadata": {},
   "outputs": [],
   "source": [
    "import statsmodels.formula.api as sm\n",
    "import pandas as pd\n",
    "import numpy as np\n",
    "from sklearn import linear_model\n",
    "from sklearn import metrics\n",
    "from sklearn.cross_validation import train_test_split"
   ]
  },
  {
   "cell_type": "code",
   "execution_count": 98,
   "metadata": {},
   "outputs": [],
   "source": [
    "df_app['installs_new']=str(df_app['installs'])"
   ]
  },
  {
   "cell_type": "code",
   "execution_count": 99,
   "metadata": {},
   "outputs": [
    {
     "data": {
      "text/plain": [
       "100000        1155\n",
       "1000000        890\n",
       "10000          877\n",
       "1000           512\n",
       "500000         450\n",
       "50000          433\n",
       "5000           320\n",
       "10000000       253\n",
       "5000000        215\n",
       "100            169\n",
       "500            130\n",
       "10              31\n",
       "50000000        31\n",
       "50              30\n",
       "100000000       21\n",
       "1000000000       4\n",
       "500000000        3\n",
       "5000000000       1\n",
       "Name: installs, dtype: int64"
      ]
     },
     "execution_count": 99,
     "metadata": {},
     "output_type": "execute_result"
    }
   ],
   "source": [
    "df_app['installs'].value_counts()"
   ]
  },
  {
   "cell_type": "code",
   "execution_count": 101,
   "metadata": {},
   "outputs": [],
   "source": [
    "#Define popularity metric\n",
    "df_app['popularity'] = np.where(df_app['installs'] >= 5000000, 'Very High', \n",
    "                      np.where(df_app['installs'] >= 100000,\n",
    "                               'High', np.where(df_app['installs'] >= 5000,\n",
    "                               'Medium', 'Low')))"
   ]
  },
  {
   "cell_type": "code",
   "execution_count": 102,
   "metadata": {},
   "outputs": [
    {
     "data": {
      "text/plain": [
       "High         2495\n",
       "Medium       1630\n",
       "Low           872\n",
       "Very High     528\n",
       "Name: popularity, dtype: int64"
      ]
     },
     "execution_count": 102,
     "metadata": {},
     "output_type": "execute_result"
    }
   ],
   "source": [
    "df_app['popularity'].value_counts()"
   ]
  },
  {
   "cell_type": "code",
   "execution_count": 104,
   "metadata": {},
   "outputs": [],
   "source": [
    "del df_app['installs_new']"
   ]
  }
 ],
 "metadata": {
  "kernelspec": {
   "display_name": "Python 3",
   "language": "python",
   "name": "python3"
  },
  "language_info": {
   "codemirror_mode": {
    "name": "ipython",
    "version": 3
   },
   "file_extension": ".py",
   "mimetype": "text/x-python",
   "name": "python",
   "nbconvert_exporter": "python",
   "pygments_lexer": "ipython3",
   "version": "3.6.7"
  },
  "widgets": {
   "state": {},
   "version": "1.1.2"
  }
 },
 "nbformat": 4,
 "nbformat_minor": 2
}
